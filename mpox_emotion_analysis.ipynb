{
  "cells": [
    {
      "cell_type": "code",
      "execution_count": null,
      "metadata": {
        "id": "xa2bKxnZgbU3"
      },
      "outputs": [],
      "source": [
        "#Package Importation\n",
        "import pandas as pd\n",
        "import numpy as np\n",
        "import re\n",
        "from keras.layers import LSTM, Activation, Dropout, Dense, Input, Flatten,Embedding,  Conv1D, MaxPool1D, Bidirectional\n",
        "from keras.models import Model\n",
        "from tensorflow.keras.preprocessing.sequence import pad_sequences\n",
        "from keras.preprocessing.text import Tokenizer\n",
        "from keras.models import Sequential\n",
        "from keras.layers import Dense, Embedding, LSTM, SpatialDropout1D, Flatten, BatchNormalization\n",
        "import matplotlib.pyplot as plt\n",
        "from keras.callbacks import EarlyStopping\n",
        "from sklearn.model_selection import GridSearchCV\n",
        "from sklearn.metrics import classification_report, confusion_matrix, ConfusionMatrixDisplay\n",
        "from sklearn.metrics import f1_score\n",
        "from google.colab import files as FILE\n",
        "import os\n",
        "from sklearn.metrics import accuracy_score, f1_score, recall_score, precision_score\n",
        "from keras.optimizers import Adam,RMSprop\n",
        "from keras.utils.vis_utils import plot_model\n",
        "from keras import regularizers\n",
        "from datetime import datetime\n"
      ]
    },
    {
      "cell_type": "code",
      "execution_count": null,
      "metadata": {
        "colab": {
          "base_uri": "https://localhost:8080/",
          "height": 73
        },
        "id": "zrxhav6tuj0s",
        "outputId": "b330b070-0e4e-44b0-9505-cd2e3c86b9ca"
      },
      "outputs": [
        {
          "output_type": "display_data",
          "data": {
            "text/plain": [
              "<IPython.core.display.HTML object>"
            ],
            "text/html": [
              "\n",
              "     <input type=\"file\" id=\"files-b79b2b24-7238-497a-99f0-2f8e75bae7cc\" name=\"files[]\" multiple disabled\n",
              "        style=\"border:none\" />\n",
              "     <output id=\"result-b79b2b24-7238-497a-99f0-2f8e75bae7cc\">\n",
              "      Upload widget is only available when the cell has been executed in the\n",
              "      current browser session. Please rerun this cell to enable.\n",
              "      </output>\n",
              "      <script>// Copyright 2017 Google LLC\n",
              "//\n",
              "// Licensed under the Apache License, Version 2.0 (the \"License\");\n",
              "// you may not use this file except in compliance with the License.\n",
              "// You may obtain a copy of the License at\n",
              "//\n",
              "//      http://www.apache.org/licenses/LICENSE-2.0\n",
              "//\n",
              "// Unless required by applicable law or agreed to in writing, software\n",
              "// distributed under the License is distributed on an \"AS IS\" BASIS,\n",
              "// WITHOUT WARRANTIES OR CONDITIONS OF ANY KIND, either express or implied.\n",
              "// See the License for the specific language governing permissions and\n",
              "// limitations under the License.\n",
              "\n",
              "/**\n",
              " * @fileoverview Helpers for google.colab Python module.\n",
              " */\n",
              "(function(scope) {\n",
              "function span(text, styleAttributes = {}) {\n",
              "  const element = document.createElement('span');\n",
              "  element.textContent = text;\n",
              "  for (const key of Object.keys(styleAttributes)) {\n",
              "    element.style[key] = styleAttributes[key];\n",
              "  }\n",
              "  return element;\n",
              "}\n",
              "\n",
              "// Max number of bytes which will be uploaded at a time.\n",
              "const MAX_PAYLOAD_SIZE = 100 * 1024;\n",
              "\n",
              "function _uploadFiles(inputId, outputId) {\n",
              "  const steps = uploadFilesStep(inputId, outputId);\n",
              "  const outputElement = document.getElementById(outputId);\n",
              "  // Cache steps on the outputElement to make it available for the next call\n",
              "  // to uploadFilesContinue from Python.\n",
              "  outputElement.steps = steps;\n",
              "\n",
              "  return _uploadFilesContinue(outputId);\n",
              "}\n",
              "\n",
              "// This is roughly an async generator (not supported in the browser yet),\n",
              "// where there are multiple asynchronous steps and the Python side is going\n",
              "// to poll for completion of each step.\n",
              "// This uses a Promise to block the python side on completion of each step,\n",
              "// then passes the result of the previous step as the input to the next step.\n",
              "function _uploadFilesContinue(outputId) {\n",
              "  const outputElement = document.getElementById(outputId);\n",
              "  const steps = outputElement.steps;\n",
              "\n",
              "  const next = steps.next(outputElement.lastPromiseValue);\n",
              "  return Promise.resolve(next.value.promise).then((value) => {\n",
              "    // Cache the last promise value to make it available to the next\n",
              "    // step of the generator.\n",
              "    outputElement.lastPromiseValue = value;\n",
              "    return next.value.response;\n",
              "  });\n",
              "}\n",
              "\n",
              "/**\n",
              " * Generator function which is called between each async step of the upload\n",
              " * process.\n",
              " * @param {string} inputId Element ID of the input file picker element.\n",
              " * @param {string} outputId Element ID of the output display.\n",
              " * @return {!Iterable<!Object>} Iterable of next steps.\n",
              " */\n",
              "function* uploadFilesStep(inputId, outputId) {\n",
              "  const inputElement = document.getElementById(inputId);\n",
              "  inputElement.disabled = false;\n",
              "\n",
              "  const outputElement = document.getElementById(outputId);\n",
              "  outputElement.innerHTML = '';\n",
              "\n",
              "  const pickedPromise = new Promise((resolve) => {\n",
              "    inputElement.addEventListener('change', (e) => {\n",
              "      resolve(e.target.files);\n",
              "    });\n",
              "  });\n",
              "\n",
              "  const cancel = document.createElement('button');\n",
              "  inputElement.parentElement.appendChild(cancel);\n",
              "  cancel.textContent = 'Cancel upload';\n",
              "  const cancelPromise = new Promise((resolve) => {\n",
              "    cancel.onclick = () => {\n",
              "      resolve(null);\n",
              "    };\n",
              "  });\n",
              "\n",
              "  // Wait for the user to pick the files.\n",
              "  const files = yield {\n",
              "    promise: Promise.race([pickedPromise, cancelPromise]),\n",
              "    response: {\n",
              "      action: 'starting',\n",
              "    }\n",
              "  };\n",
              "\n",
              "  cancel.remove();\n",
              "\n",
              "  // Disable the input element since further picks are not allowed.\n",
              "  inputElement.disabled = true;\n",
              "\n",
              "  if (!files) {\n",
              "    return {\n",
              "      response: {\n",
              "        action: 'complete',\n",
              "      }\n",
              "    };\n",
              "  }\n",
              "\n",
              "  for (const file of files) {\n",
              "    const li = document.createElement('li');\n",
              "    li.append(span(file.name, {fontWeight: 'bold'}));\n",
              "    li.append(span(\n",
              "        `(${file.type || 'n/a'}) - ${file.size} bytes, ` +\n",
              "        `last modified: ${\n",
              "            file.lastModifiedDate ? file.lastModifiedDate.toLocaleDateString() :\n",
              "                                    'n/a'} - `));\n",
              "    const percent = span('0% done');\n",
              "    li.appendChild(percent);\n",
              "\n",
              "    outputElement.appendChild(li);\n",
              "\n",
              "    const fileDataPromise = new Promise((resolve) => {\n",
              "      const reader = new FileReader();\n",
              "      reader.onload = (e) => {\n",
              "        resolve(e.target.result);\n",
              "      };\n",
              "      reader.readAsArrayBuffer(file);\n",
              "    });\n",
              "    // Wait for the data to be ready.\n",
              "    let fileData = yield {\n",
              "      promise: fileDataPromise,\n",
              "      response: {\n",
              "        action: 'continue',\n",
              "      }\n",
              "    };\n",
              "\n",
              "    // Use a chunked sending to avoid message size limits. See b/62115660.\n",
              "    let position = 0;\n",
              "    do {\n",
              "      const length = Math.min(fileData.byteLength - position, MAX_PAYLOAD_SIZE);\n",
              "      const chunk = new Uint8Array(fileData, position, length);\n",
              "      position += length;\n",
              "\n",
              "      const base64 = btoa(String.fromCharCode.apply(null, chunk));\n",
              "      yield {\n",
              "        response: {\n",
              "          action: 'append',\n",
              "          file: file.name,\n",
              "          data: base64,\n",
              "        },\n",
              "      };\n",
              "\n",
              "      let percentDone = fileData.byteLength === 0 ?\n",
              "          100 :\n",
              "          Math.round((position / fileData.byteLength) * 100);\n",
              "      percent.textContent = `${percentDone}% done`;\n",
              "\n",
              "    } while (position < fileData.byteLength);\n",
              "  }\n",
              "\n",
              "  // All done.\n",
              "  yield {\n",
              "    response: {\n",
              "      action: 'complete',\n",
              "    }\n",
              "  };\n",
              "}\n",
              "\n",
              "scope.google = scope.google || {};\n",
              "scope.google.colab = scope.google.colab || {};\n",
              "scope.google.colab._files = {\n",
              "  _uploadFiles,\n",
              "  _uploadFilesContinue,\n",
              "};\n",
              "})(self);\n",
              "</script> "
            ]
          },
          "metadata": {}
        },
        {
          "output_type": "stream",
          "name": "stdout",
          "text": [
            "Saving data.xlsx to data.xlsx\n"
          ]
        }
      ],
      "source": [
        "from google.colab import files\n",
        "uploaded = files.upload()"
      ]
    },
    {
      "cell_type": "code",
      "execution_count": null,
      "metadata": {
        "id": "LBVczwMss9wu",
        "colab": {
          "base_uri": "https://localhost:8080/"
        },
        "outputId": "4fb65830-5263-418f-e484-54e01bc6c1b9"
      },
      "outputs": [
        {
          "output_type": "execute_result",
          "data": {
            "text/plain": [
              "Index(['text', 'label'], dtype='object')"
            ]
          },
          "metadata": {},
          "execution_count": 10
        }
      ],
      "source": [
        "df = pd.read_excel('data.xlsx')\n",
        "df.columns\n"
      ]
    },
    {
      "cell_type": "code",
      "source": [
        "df.columns"
      ],
      "metadata": {
        "colab": {
          "base_uri": "https://localhost:8080/"
        },
        "id": "dSNAHtDrbJtC",
        "outputId": "6eb48dc7-0be2-4a66-ba8c-9c85abc4c6b3"
      },
      "execution_count": null,
      "outputs": [
        {
          "output_type": "execute_result",
          "data": {
            "text/plain": [
              "Index(['text', 'label'], dtype='object')"
            ]
          },
          "metadata": {},
          "execution_count": 11
        }
      ]
    },
    {
      "cell_type": "markdown",
      "metadata": {
        "id": "9Ti8p2K7z8yL"
      },
      "source": [
        "Remote tweets with null values"
      ]
    },
    {
      "cell_type": "code",
      "execution_count": null,
      "metadata": {
        "id": "eTnJhvQN0PCg"
      },
      "outputs": [],
      "source": [
        "df = df[df['text'].notna()]#remove null value"
      ]
    },
    {
      "cell_type": "markdown",
      "metadata": {
        "id": "XtRVJiq70SK7"
      },
      "source": [
        "Remove the positive and negative emotions from the data"
      ]
    },
    {
      "cell_type": "code",
      "execution_count": null,
      "metadata": {
        "id": "mjBzRq-ELhMV"
      },
      "outputs": [],
      "source": [
        "df=df.drop(df[df['Emotion']=='positive'].index)\n",
        "df=df.drop(df[df['Emotion']=='negative'].index)"
      ]
    },
    {
      "cell_type": "code",
      "execution_count": null,
      "metadata": {
        "colab": {
          "base_uri": "https://localhost:8080/"
        },
        "id": "61XfKiWGuUo4",
        "outputId": "b8c1e616-fb74-45da-cf38-bf9a137b8556"
      },
      "outputs": [
        {
          "output_type": "stream",
          "name": "stdout",
          "text": [
            "Number of tweets: 6972\n"
          ]
        }
      ],
      "source": [
        "#Check Total\n",
        "print(\"Number of tweets: {}\".format(len(df)))"
      ]
    },
    {
      "cell_type": "code",
      "execution_count": null,
      "metadata": {
        "id": "4dXMx_ES9_Tq"
      },
      "outputs": [],
      "source": [
        "# Print the distribution of emotions in the data\n",
        "df['Emotion'].value_counts()"
      ]
    },
    {
      "cell_type": "code",
      "execution_count": null,
      "metadata": {
        "id": "osoIuqRJpi2X"
      },
      "outputs": [],
      "source": [
        "#count of emotion\n",
        "#em=df['Emotion'].value_counts()\n",
        "import seaborn as sns\n",
        "em = df['Emotion'].value_counts().rename_axis('emotion').reset_index(name='counts')\n",
        "plt.figure(figsize=(12, 5))\n",
        "plt.bar(em['emotion'], em['counts'],  width=0.8)\n",
        "sns.barplot(em['emotion'], em['counts'])\n",
        "#plt.savefig('em.jpg', dpi=300)\n",
        "#FILE.download('em.jpg')\n",
        "plt.show()"
      ]
    },
    {
      "cell_type": "markdown",
      "metadata": {
        "id": "d_oW_Jwd2LXi"
      },
      "source": [
        "# TOKENIZATION AND PADDING OF THE TWEETS"
      ]
    },
    {
      "cell_type": "code",
      "execution_count": null,
      "metadata": {
        "id": "wyMoeR7Lx4oL"
      },
      "outputs": [],
      "source": [
        "max_fatures = 2000\n",
        "tokenizer = Tokenizer(num_words=max_fatures, split=' ')\n",
        "tokenizer.fit_on_texts(df['Ceext'].values)\n",
        "X = tokenizer.texts_to_sequences(df['CleanText'].values)\n",
        "#Y=tokenizer.texts_to_sequences(df['Emotion'].values)\n",
        "#Y = pad_sequences(Y)\n",
        "X = pad_sequences(X)"
      ]
    },
    {
      "cell_type": "markdown",
      "metadata": {
        "id": "r8FQIX5H1nOx"
      },
      "source": [
        "# ENCODING OF THE TARGET CLASSES"
      ]
    },
    {
      "cell_type": "code",
      "execution_count": null,
      "metadata": {
        "id": "a63BrFmEE8CH"
      },
      "outputs": [],
      "source": [
        "#encode outcome\n",
        "from sklearn.preprocessing import OneHotEncoder, LabelEncoder\n",
        "le = LabelEncoder()\n",
        "y=le.fit_transform(df['Emotion'].values)\n",
        "#y=y.reshape(-1,1)\n",
        "#y = OneHotEncoder().fit_transform(y).toarray()\n",
        "print(y.shape)\n",
        "\n",
        "\n"
      ]
    },
    {
      "cell_type": "code",
      "execution_count": null,
      "metadata": {
        "id": "nNO8TioWAK8b"
      },
      "outputs": [],
      "source": [
        "labels= df['Emotion'].values"
      ]
    },
    {
      "cell_type": "code",
      "execution_count": null,
      "metadata": {
        "id": "Uh1J51rlAaXe"
      },
      "outputs": [],
      "source": [
        "labels_n, count = np.unique(labels,return_counts=True)"
      ]
    },
    {
      "cell_type": "code",
      "execution_count": null,
      "metadata": {
        "colab": {
          "base_uri": "https://localhost:8080/"
        },
        "id": "9_wZ6JlZBT5Y",
        "outputId": "2665448a-5022-4c7f-e84d-004a8ec100c9"
      },
      "outputs": [
        {
          "output_type": "stream",
          "name": "stdout",
          "text": [
            "['anger' 'anticipation' 'disgust' 'fear' 'joy' 'sadness' 'surprise'\n",
            " 'trust']\n"
          ]
        }
      ],
      "source": [
        "print(labels_n)"
      ]
    },
    {
      "cell_type": "markdown",
      "metadata": {
        "id": "Z8FjZSjw2lyW"
      },
      "source": [
        "# SPLITTING OF DATA INTO TRAINING AND TEST DATA"
      ]
    },
    {
      "cell_type": "code",
      "execution_count": null,
      "metadata": {
        "id": "HiRbzMfOFlmN"
      },
      "outputs": [],
      "source": [
        "#Split the data\n",
        "from sklearn.model_selection import train_test_split\n",
        "X_train, X_test, y_train, y_test = train_test_split(X, y, test_size=0.20, random_state=1, stratify=y)\n",
        "\n",
        "print(X_train.shape,y_train.shape)\n",
        "print(X_test.shape,y_test.shape)\n",
        "\n",
        "# Printing the class distribution in the training data\n",
        "# as a tuple of (class encoding, number of instances)\n",
        "unique, counts = np.unique(y_train, return_counts=True)\n",
        "print(list(zip(unique,counts)))"
      ]
    },
    {
      "cell_type": "markdown",
      "metadata": {
        "id": "8D2TiTl7ua-c"
      },
      "source": [
        "**DATA BALANCING.**\n",
        "\n",
        "TWO DATA BALANCING STRATEGIES  ARE APPLIED\n",
        "\n",
        "A. UPSAMPLING WITH SMOTE\n",
        "\n",
        "B. UPSAMPLING AND DOWNSAMPLING\n",
        "\n",
        "\n",
        "THE EFFECTS OF EACH STRATEGY ON THE MODEL PERFORMANCE SHOULD BE TESTED SEPARATELY, IE EITHER WITH RUN THE MODEL OF STRATEGY A OR B"
      ]
    },
    {
      "cell_type": "code",
      "execution_count": null,
      "metadata": {
        "id": "T8uYs1OAvhfh"
      },
      "outputs": [],
      "source": [
        "# UPSAMPLING WITH SMOTE\n",
        "from imblearn.over_sampling import SMOTE\n",
        "oversample = SMOTE(random_state=42)\n",
        "\n",
        "\n",
        "X_train_o, y_train_o = oversample.fit_resample(X_train, y_train)\n",
        "\n",
        "# Printing the class distribution in the training data after upsampling\n",
        "# as a tuple of (class encoding, number of instances)\n",
        "unique, counts = np.unique(y_train_o, return_counts=True)\n",
        "print(unique)\n",
        "print(list(zip(unique,counts)))"
      ]
    },
    {
      "cell_type": "code",
      "source": [
        "print()"
      ],
      "metadata": {
        "id": "LTT6Ul09Wk2D"
      },
      "execution_count": null,
      "outputs": []
    },
    {
      "cell_type": "code",
      "execution_count": null,
      "metadata": {
        "id": "e-EiuXQCCOV-"
      },
      "outputs": [],
      "source": [
        "# UPSAMPLING AND DOWNSAMPLING\n",
        "from imblearn.over_sampling import SMOTE\n",
        "from imblearn.under_sampling import RandomUnderSampler\n",
        "from imblearn.pipeline import Pipeline\n",
        "\n",
        "over = SMOTE(random_state=42)\n",
        "#under_strategy = {0:20000,1:20000,2:20000,3:20000,4:20000,5:20000,6:20000,7:20000,8:20000,9:20000}\n",
        "under_strategy = {0:14382,1:14382,2:14382,3:14382,4:14382,5:14382,6:14382,7:14382}\n",
        "under = RandomUnderSampler(sampling_strategy=under_strategy)\n",
        "steps = [('o', over), ('u', under)]\n",
        "pipeline = Pipeline(steps=steps)\n",
        "\n",
        "X_train_u, y_train_u = pipeline.fit_resample(X_train, y_train)\n",
        "\n",
        "# Printing the class distribution in the training data\n",
        "# as a tuple of (class encoding, number of instances)\n",
        "unique, counts = np.unique(y_train_u, return_counts=True)\n",
        "print(list(zip(unique,counts)))"
      ]
    },
    {
      "cell_type": "markdown",
      "metadata": {
        "id": "Gh9N7nmGA7a_"
      },
      "source": [
        "# **EMOTION PREDICTION**\n",
        "\n",
        "\n",
        "\n"
      ]
    },
    {
      "cell_type": "code",
      "execution_count": null,
      "metadata": {
        "id": "ygb9FaLKFaaY"
      },
      "outputs": [],
      "source": [
        "# Setting up an early stop for the model\n",
        "early_stopping = EarlyStopping(patience=5,restore_best_weights=True)"
      ]
    },
    {
      "cell_type": "code",
      "source": [
        "print(X.shape[1])"
      ],
      "metadata": {
        "id": "xg_UnNlzNJ1V"
      },
      "execution_count": null,
      "outputs": []
    },
    {
      "cell_type": "markdown",
      "metadata": {
        "id": "fYkTPO7bdgcu"
      },
      "source": [
        "\n",
        "\n",
        "```\n",
        "# This is formatted as code\n",
        "```\n",
        "\n",
        "**LSTM-EMOTION**"
      ]
    },
    {
      "cell_type": "code",
      "execution_count": null,
      "metadata": {
        "id": "8WXLGoYo_xE6"
      },
      "outputs": [],
      "source": [
        "#LSTM\n",
        "#model\n",
        "\n",
        "embed_dim = 200\n",
        "max_fatures = 2000\n",
        "d =0.1\n",
        "\n",
        "model=Sequential()\n",
        "\n",
        "model.add(Embedding(max_fatures, embed_dim,input_length = X.shape[1]))#model.add(Dropout(0.2))\n",
        "model.add(LSTM(256,activation='relu',return_sequences=True))\n",
        "\n",
        "model.add(Dropout(d))\n",
        "\n",
        "model.add(LSTM(128,activation='relu'))\n",
        "\n",
        "model.add(Dropout(d))\n",
        "'''\n",
        "model.add(LSTM(64,activation='relu',return_sequences=True))\n",
        "\n",
        "model.add(Dropout(d))\n",
        "\n",
        "model.add(LSTM(32,activation='relu',return_sequences=True))\n",
        "\n",
        "model.add(Dropout(d))\n",
        "\n",
        "model.add(LSTM(16,activation='relu'))\n",
        "\n",
        "model.add(Dropout(d))\n",
        "'''\n",
        "model.add(Dense(250,activation='relu'))\n",
        "model.add(Flatten())\n",
        "model.add(Dense(8,activation='softmax'))\n",
        "model.compile(loss='sparse_categorical_crossentropy',optimizer=Adam(learning_rate=0.0001),metrics=['accuracy'])\n",
        "model.summary()\n"
      ]
    },
    {
      "cell_type": "code",
      "execution_count": null,
      "metadata": {
        "cellView": "form",
        "id": "vUPs4vC2tSgs"
      },
      "outputs": [],
      "source": [
        "#@title Hyperparameter Tuning LSTM\n",
        "#Hyperparameter Tuning LSTM\n",
        "from keras.wrappers.scikit_learn import KerasClassifier\n",
        "from sklearn.model_selection import RandomizedSearchCV\n",
        "from keras.models import Sequential\n",
        "from keras.layers import Dense, Embedding, Conv1D, MaxPooling1D, GlobalMaxPooling1D\n",
        "from keras.optimizers import Adam\n",
        "import numpy as np\n",
        "\n",
        "# Define the model\n",
        "def create_model(vob_size=2000, optimizer='adam', dropout=0.2,  embedding_dim=100, epochs=10, batch_size=32):\n",
        "\n",
        "  model = Sequential()\n",
        "  model.add(Embedding(vob_size,embedding_dim, input_length=X.shape[1]))\n",
        "  model.add(LSTM(256,activation='relu',return_sequences=True))\n",
        "\n",
        "  model.add(Dropout(dropout))\n",
        "\n",
        "  model.add(LSTM(128,activation='relu',return_sequences=True))\n",
        "\n",
        "  model.add(Dropout(dropout))\n",
        "\n",
        "  model.add(LSTM(64,activation='relu',return_sequences=True))\n",
        "\n",
        "  model.add(Dropout(dropout))\n",
        "\n",
        "  model.add(LSTM(32,activation='relu',return_sequences=True))\n",
        "\n",
        "  model.add(Dropout(dropout))\n",
        "\n",
        "  model.add(LSTM(16,activation='relu',return_sequences=True))\n",
        "\n",
        "  model.add(Dropout(dropout))\n",
        "  model.add(Dense(250,activation='relu'))\n",
        "  model.add(Flatten())\n",
        "  model.add(Dense(10,activation='softmax'))\n",
        "  model.compile(loss='sparse_categorical_crossentropy',optimizer='adam',metrics=['accuracy'])\n",
        "  return model\n",
        "\n",
        "# Define the parameter grid\n",
        "param_grid = {'optimizer': ['adam', 'rmsprop', 'SGD'],\n",
        "              'embedding_dim': [50,100,200, 500],\n",
        "              'epochs': [10,20,30, 40, 50, 100],\n",
        "              'batch_size':[32,64,128, 196, 256],\n",
        "              'dropout':[0.05, 0.1, 0.2, 0.3,0.5,0.5],\n",
        "              'vob_size':[1000, 2000, 3000, 5000]}\n",
        "\n",
        "\n",
        "# Create the KerasClassifier\n",
        "model = KerasClassifier(build_fn=create_model, verbose=0)\n",
        "\n",
        "# Create the randomized search\n",
        "random_search = RandomizedSearchCV(estimator=model, param_distributions=param_grid, cv=3)\n",
        "\n",
        "# Fit the randomized search\n",
        "search=random_search.fit(X, y)\n",
        "print( search.best_params_)\n",
        "print(f'Best Score Accuracy: {search.best_score_}')"
      ]
    },
    {
      "cell_type": "code",
      "execution_count": null,
      "metadata": {
        "id": "AmTBBIpIGW77"
      },
      "outputs": [],
      "source": [
        "#Train the LSTM model\n",
        "hist_lstm=model.fit(X_train,y_train,validation_data=(X_test,y_test),epochs=100,batch_size=128,shuffle= True, verbose=2,callbacks=[early_stopping])"
      ]
    },
    {
      "cell_type": "code",
      "execution_count": null,
      "metadata": {
        "id": "v6grQLtK-imx"
      },
      "outputs": [],
      "source": [
        "#Performance Metrics for LSTM\n",
        "y_test_pred = np.argmax(model.predict(X_test), axis=-1)\n",
        "print(f\"Accuracy Score: {accuracy_score(y_test, y_test_pred) * 100:.2f}%\")\n",
        "print(f\"F1 Score: {f1_score(y_test, y_test_pred, average='weighted') * 100:.2f}%\")\n",
        "print(f\"Recall Score: {recall_score(y_test, y_test_pred, average='weighted') * 100:.2f}%\")\n",
        "print(f\"Precision Score: {precision_score(y_test, y_test_pred, average='weighted') * 100:.2f}%\")\n",
        "from sklearn.metrics import matthews_corrcoef\n",
        "print(f'MCC Score: {matthews_corrcoef(y_test, y_test_pred):.2f}%')\n",
        "cm=confusion_matrix(y_test_pred, y_test,normalize='true')\n",
        "cmd = ConfusionMatrixDisplay(cm, display_labels=labels_n)\n",
        "fig, ax = plt.subplots(figsize=(15,15))\n",
        "cmd.plot(ax=ax,cmap=plt.cm.Blues,colorbar=False)\n",
        "filename ='lstm_confmx '+datetime.now().strftime(\"%m-%d-%Y_%H-%M-%S\")+'.jpg'\n",
        "plt.savefig(filename, dpi=300)\n",
        "FILE.download(filename)\n",
        "\n"
      ]
    },
    {
      "cell_type": "code",
      "execution_count": null,
      "metadata": {
        "id": "ehLtIit0_T4G",
        "cellView": "form"
      },
      "outputs": [],
      "source": [
        "#@title Accuracy-loss of LSTM\n",
        "plt.rcParams['font.family']='Arial'\n",
        "plt.rcParams['font.size']=14\n",
        "plt.plot(hist_lstm.history['accuracy'])\n",
        "plt.plot(hist_lstm.history['val_accuracy'])\n",
        "plt.plot(hist_lstm.history['loss'])\n",
        "plt.plot(hist_lstm.history['val_loss'])\n",
        "\n",
        "plt.title('LSTM MODEL')\n",
        "plt.ylabel('Accuracy/loss')\n",
        "plt.xlabel('Epoch')\n",
        "plt.legend(['train accuracy', 'val accuracy','train loss',' val loss'], loc='center right')\n",
        "filename ='lstm_acc_loss '+datetime.now().strftime(\"%m-%d-%Y_%H-%M-%S\")+'.jpg'\n",
        "\n",
        "plt.savefig(filename, dpi=300)\n",
        "FILE.download(filename)\n",
        "plt.show()"
      ]
    },
    {
      "cell_type": "code",
      "execution_count": null,
      "metadata": {
        "id": "uT6mQ8UWA_vb"
      },
      "outputs": [],
      "source": [
        "plt.rcParams['font.family']='Arial'\n",
        "plt.rcParams['font.size']=14\n",
        "plt.plot(hist_lstm.history['accuracy'])\n",
        "plt.plot(hist_lstm.history['val_accuracy'])\n",
        "\n",
        "plt.title('LSTM MODEL')\n",
        "plt.ylabel('Accuracy')\n",
        "plt.xlabel('Epoch')\n",
        "plt.legend(['train accuracy', 'val accuracy'], loc='upper left')\n",
        "filename ='lstm_acc'+datetime.now().strftime(\"%m-%d-%Y_%H-%M-%S\")+'.jpg'\n",
        "\n",
        "plt.savefig(filename, dpi=300)\n",
        "FILE.download(filename)\n",
        "plt.show()"
      ]
    },
    {
      "cell_type": "code",
      "execution_count": null,
      "metadata": {
        "id": "fO2w1DGPBSW6"
      },
      "outputs": [],
      "source": [
        "plt.rcParams['font.family']='Arial'\n",
        "plt.rcParams['font.size']=14\n",
        "plt.plot(hist_lstm.history['loss'])\n",
        "plt.plot(hist_lstm.history['val_loss'])\n",
        "plt.title('LSTM MODEL')\n",
        "plt.ylabel('loss')\n",
        "plt.xlabel('Epoch')\n",
        "plt.legend(['train loss', 'val loss'], loc='upper right')\n",
        "filename ='lstm_loss '+datetime.now().strftime(\"%m-%d-%Y_%H-%M-%S\")+'.jpg'\n",
        "\n",
        "plt.savefig(filename, dpi=300)\n",
        "FILE.download(filename)\n",
        "plt.show()"
      ]
    },
    {
      "cell_type": "markdown",
      "metadata": {
        "id": "JWB6ZP6SaQi9"
      },
      "source": [
        " **1 DCNN**"
      ]
    },
    {
      "cell_type": "code",
      "execution_count": null,
      "metadata": {
        "id": "Q4e13MJfbx1P",
        "colab": {
          "base_uri": "https://localhost:8080/"
        },
        "outputId": "3f2724f8-786f-4716-b490-ead6e332e756"
      },
      "outputs": [
        {
          "output_type": "stream",
          "name": "stdout",
          "text": [
            "Model: \"sequential_4\"\n",
            "_________________________________________________________________\n",
            " Layer (type)                Output Shape              Param #   \n",
            "=================================================================\n",
            " embedding_4 (Embedding)     (None, 56, 200)           4000000   \n",
            "                                                                 \n",
            " conv1d_11 (Conv1D)          (None, 56, 256)           153856    \n",
            "                                                                 \n",
            " max_pooling1d_8 (MaxPooling  (None, 28, 256)          0         \n",
            " 1D)                                                             \n",
            "                                                                 \n",
            " dropout_12 (Dropout)        (None, 28, 256)           0         \n",
            "                                                                 \n",
            " conv1d_12 (Conv1D)          (None, 28, 128)           98432     \n",
            "                                                                 \n",
            " max_pooling1d_9 (MaxPooling  (None, 14, 128)          0         \n",
            " 1D)                                                             \n",
            "                                                                 \n",
            " dropout_13 (Dropout)        (None, 14, 128)           0         \n",
            "                                                                 \n",
            " conv1d_13 (Conv1D)          (None, 14, 128)           49280     \n",
            "                                                                 \n",
            " max_pooling1d_10 (MaxPoolin  (None, 7, 128)           0         \n",
            " g1D)                                                            \n",
            "                                                                 \n",
            " dropout_14 (Dropout)        (None, 7, 128)            0         \n",
            "                                                                 \n",
            " flatten_4 (Flatten)         (None, 896)               0         \n",
            "                                                                 \n",
            " dense_16 (Dense)            (None, 256)               229632    \n",
            "                                                                 \n",
            " dense_17 (Dense)            (None, 128)               32896     \n",
            "                                                                 \n",
            " dense_18 (Dense)            (None, 64)                8256      \n",
            "                                                                 \n",
            " dense_19 (Dense)            (None, 8)                 520       \n",
            "                                                                 \n",
            "=================================================================\n",
            "Total params: 4,572,872\n",
            "Trainable params: 4,572,872\n",
            "Non-trainable params: 0\n",
            "_________________________________________________________________\n"
          ]
        }
      ],
      "source": [
        "d=0.5\n",
        "model = Sequential()\n",
        "model.add(Embedding(20000,200, input_length=X.shape[1]))\n",
        "#model.add(Dropout(0.2))\n",
        "model.add(Conv1D(256, 3, activation='relu', padding='same'))\n",
        "model.add(MaxPool1D(2))\n",
        "model.add(Dropout(d))\n",
        "model.add(Conv1D(128, 3, activation='relu', padding='same'))\n",
        "model.add(MaxPool1D(2))\n",
        "model.add(Dropout(d))\n",
        "model.add(Conv1D(128, 3, activation='relu', padding='same'))\n",
        "model.add(MaxPool1D(2))\n",
        "model.add(Dropout(d))\n",
        "model.add(Flatten())\n",
        "#model.add(Dropout(d))\n",
        "model.add(Dense(256, activation='relu'))\n",
        "#model.add(Dense(256, activation='relu',activity_regularizer=regularizers.l1(10e-5)))\n",
        "model.add(Dense(128, activation='relu'))\n",
        "model.add(Dense(64, activation='relu'))\n",
        "#model.add(Dropout(d))\n",
        "model.add(Dense(8, activation='softmax'))\n",
        "#model.compile(loss='sparse_categorical_crossentropy', optimizer='adam', metrics=['accuracy'])\n",
        "model.compile(loss='sparse_categorical_crossentropy', optimizer=Adam(learning_rate=0.001), metrics=['accuracy'])\n",
        "model.summary()\n",
        "\n"
      ]
    },
    {
      "cell_type": "code",
      "execution_count": null,
      "metadata": {
        "id": "oyDW-YKaspsT"
      },
      "outputs": [],
      "source": [
        "for layer in model.layers:\n",
        "        print(\"Layer Name: \" + layer.name)\n",
        "        print(\"Type of layer: \" + layer.__class__.__name__)\n",
        "        print(\"Input dimesion: {}\".format(layer.input_shape[1:]))\n",
        "        print(\"Output dimesion: {}\".format(layer.output_shape[1:]))\n",
        "        print(\"Parameter Count: {}\".format( layer.count_params()))\n",
        "        try:\n",
        "            print(\"Activation : \" + layer.activation.__name__)\n",
        "            print(\" \")\n",
        "        except:\n",
        "            print(\" \")"
      ]
    },
    {
      "cell_type": "code",
      "execution_count": null,
      "metadata": {
        "cellView": "form",
        "id": "0K5Cv9IQ_FO4"
      },
      "outputs": [],
      "source": [
        "#@title Hyper parameter search for 1DCNN\n",
        "from keras.wrappers.scikit_learn import KerasClassifier\n",
        "from sklearn.model_selection import RandomizedSearchCV\n",
        "from keras.models import Sequential\n",
        "from keras.layers import Dense, Embedding, Conv1D, MaxPooling1D, GlobalMaxPooling1D\n",
        "from keras.optimizers import Adam\n",
        "import numpy as np\n",
        "\n",
        "# Define the model\n",
        "def create_model(optimizer='adam', kernel_size=3,  pool_size=2, embedding_dim=100, epochs=10, batch_size=32):\n",
        "  d=0.2\n",
        "  model = Sequential()\n",
        "  model.add(Embedding(20000,embedding_dim, input_length=X.shape[1]))\n",
        "  model.add(Conv1D(256, 3, activation='relu', padding='same'))\n",
        "  model.add(MaxPool1D(pool_size))\n",
        "  model.add(Dropout(d))\n",
        "  model.add(Conv1D(128, 3, activation='relu', padding='same'))\n",
        "  model.add(MaxPool1D(pool_size))\n",
        "  model.add(Dropout(d))\n",
        "  model.add(Flatten())\n",
        "  model.add(Dense(256, activation='relu'))\n",
        "  model.add(Dense(128, activation='relu'))\n",
        "  model.add(Dense(64, activation='relu',name='features'))\n",
        "  model.add(Dense(10, activation='softmax'))\n",
        "  model.compile(loss='sparse_categorical_crossentropy', optimizer='adam', metrics=['accuracy'])\n",
        "\n",
        "  return model\n",
        "\n",
        "# Define the parameter grid\n",
        "param_grid = {'optimizer': ['adam', 'rmsprop'],\n",
        "              'kernel_size': [3,5],\n",
        "              'pool_size': [2,3],\n",
        "              'embedding_dim': [50,100,200],\n",
        "              'epochs': [10,20,30],\n",
        "              'batch_size':[32,64,128]}\n",
        "\n",
        "# Create the KerasClassifier\n",
        "model = KerasClassifier(build_fn=create_model, verbose=0)\n",
        "\n",
        "# Create the randomized search\n",
        "random_search = RandomizedSearchCV(estimator=model, param_distributions=param_grid, cv=3)\n",
        "\n",
        "# Fit the randomized search\n",
        "search=random_search.fit(X, y)\n",
        "print( search.best_params_)\n"
      ]
    },
    {
      "cell_type": "code",
      "execution_count": null,
      "metadata": {
        "id": "4919ZKoxcXXB",
        "colab": {
          "base_uri": "https://localhost:8080/"
        },
        "outputId": "4e52d065-249d-4f9f-c27e-1d1960fea976"
      },
      "outputs": [
        {
          "output_type": "stream",
          "name": "stdout",
          "text": [
            "Epoch 1/100\n",
            "20806/20806 - 114s - loss: 0.8968 - accuracy: 0.6632 - val_loss: 0.7470 - val_accuracy: 0.7819 - 114s/epoch - 5ms/step\n",
            "Epoch 2/100\n",
            "20806/20806 - 113s - loss: 0.6236 - accuracy: 0.7624 - val_loss: 0.4320 - val_accuracy: 0.8738 - 113s/epoch - 5ms/step\n",
            "Epoch 3/100\n",
            "20806/20806 - 113s - loss: 0.5332 - accuracy: 0.7983 - val_loss: 0.4529 - val_accuracy: 0.8718 - 113s/epoch - 5ms/step\n",
            "Epoch 4/100\n",
            "20806/20806 - 113s - loss: 0.4768 - accuracy: 0.8215 - val_loss: 0.4291 - val_accuracy: 0.8786 - 113s/epoch - 5ms/step\n",
            "Epoch 5/100\n",
            "20806/20806 - 113s - loss: 0.4354 - accuracy: 0.8396 - val_loss: 0.3612 - val_accuracy: 0.9000 - 113s/epoch - 5ms/step\n",
            "Epoch 6/100\n",
            "20806/20806 - 113s - loss: 0.4077 - accuracy: 0.8518 - val_loss: 0.3795 - val_accuracy: 0.8928 - 113s/epoch - 5ms/step\n",
            "Epoch 7/100\n",
            "20806/20806 - 113s - loss: 0.3828 - accuracy: 0.8618 - val_loss: 0.3558 - val_accuracy: 0.9042 - 113s/epoch - 5ms/step\n",
            "Epoch 8/100\n",
            "20806/20806 - 113s - loss: 0.3644 - accuracy: 0.8697 - val_loss: 0.4624 - val_accuracy: 0.8757 - 113s/epoch - 5ms/step\n",
            "Epoch 9/100\n",
            "20806/20806 - 113s - loss: 0.3468 - accuracy: 0.8763 - val_loss: 0.4094 - val_accuracy: 0.8869 - 113s/epoch - 5ms/step\n",
            "Epoch 10/100\n",
            "20806/20806 - 112s - loss: 0.3351 - accuracy: 0.8816 - val_loss: 0.3813 - val_accuracy: 0.8997 - 112s/epoch - 5ms/step\n",
            "Epoch 11/100\n",
            "20806/20806 - 112s - loss: 0.3252 - accuracy: 0.8867 - val_loss: 0.3966 - val_accuracy: 0.9035 - 112s/epoch - 5ms/step\n",
            "Epoch 12/100\n",
            "20806/20806 - 112s - loss: 0.3139 - accuracy: 0.8913 - val_loss: 0.3488 - val_accuracy: 0.9178 - 112s/epoch - 5ms/step\n",
            "Epoch 13/100\n",
            "20806/20806 - 112s - loss: 0.3058 - accuracy: 0.8948 - val_loss: 0.3738 - val_accuracy: 0.9076 - 112s/epoch - 5ms/step\n",
            "Epoch 14/100\n",
            "20806/20806 - 112s - loss: 0.2989 - accuracy: 0.8986 - val_loss: 0.3506 - val_accuracy: 0.9162 - 112s/epoch - 5ms/step\n",
            "Epoch 15/100\n",
            "20806/20806 - 112s - loss: 0.2979 - accuracy: 0.9003 - val_loss: 0.3796 - val_accuracy: 0.9041 - 112s/epoch - 5ms/step\n",
            "Epoch 16/100\n",
            "20806/20806 - 113s - loss: 0.2838 - accuracy: 0.9042 - val_loss: 0.3385 - val_accuracy: 0.9160 - 113s/epoch - 5ms/step\n",
            "Epoch 17/100\n",
            "20806/20806 - 113s - loss: 0.2846 - accuracy: 0.9049 - val_loss: 0.3563 - val_accuracy: 0.9173 - 113s/epoch - 5ms/step\n",
            "Epoch 18/100\n",
            "20806/20806 - 112s - loss: 0.2824 - accuracy: 0.9065 - val_loss: 0.5997 - val_accuracy: 0.9162 - 112s/epoch - 5ms/step\n",
            "Epoch 19/100\n",
            "20806/20806 - 113s - loss: 0.2829 - accuracy: 0.9073 - val_loss: 0.4474 - val_accuracy: 0.8895 - 113s/epoch - 5ms/step\n",
            "Epoch 20/100\n",
            "20806/20806 - 113s - loss: 0.3387 - accuracy: 0.9041 - val_loss: 0.3773 - val_accuracy: 0.9098 - 113s/epoch - 5ms/step\n",
            "Epoch 21/100\n",
            "20806/20806 - 113s - loss: 0.2913 - accuracy: 0.9085 - val_loss: 0.4465 - val_accuracy: 0.8968 - 113s/epoch - 5ms/step\n"
          ]
        }
      ],
      "source": [
        "#RUNNING THE MODEL 1D CNN  WITH BEST PARAMETER\n",
        "hist1=model.fit(X_train_o, y_train_o, validation_data=(X_test,y_test), epochs=100, batch_size=32, shuffle= True, verbose=2,callbacks=[early_stopping])\n",
        "#hist1=model.fit(X_train, y_train, validation_data=(X_test,y_test), epochs=200, batch_size=32, shuffle= True, verbose=2)"
      ]
    },
    {
      "cell_type": "code",
      "execution_count": null,
      "metadata": {
        "id": "C8Bx4FWkMgUJ"
      },
      "outputs": [],
      "source": [
        "from matplotlib.text import FontProperties\n",
        "#Performance Metrics for 1DCNN\n",
        "y_test_pred = np.argmax(model.predict(X_test), axis=-1)\n",
        "print(f\"Accuracy Score: {accuracy_score(y_test, y_test_pred) * 100:.2f}%\")\n",
        "print(f\"F1 Score: {f1_score(y_test, y_test_pred, average='weighted') * 100:.2f}%\")\n",
        "print(f\"Recall Score: {recall_score(y_test, y_test_pred, average='weighted') * 100:.2f}%\")\n",
        "print(f\"Precision Score: {precision_score(y_test, y_test_pred, average='weighted') * 100:.2f}%\")\n",
        "from sklearn.metrics import matthews_corrcoef\n",
        "print(f'MCC Score: {matthews_corrcoef(y_test, y_test_pred):.2f}%')\n",
        "cm=confusion_matrix(y_test_pred, y_test,normalize='true')\n",
        "cmd = ConfusionMatrixDisplay(cm, display_labels=labels_n)\n",
        "fig, ax = plt.subplots(figsize=(15,15))\n",
        "cmd.plot(ax=ax,cmap=plt.cm.Blues,colorbar=False)\n",
        "filename ='dcnn_confmx '+datetime.now().strftime(\"%m-%d-%Y_%H-%M-%S\")+'.jpg'\n",
        "plt.savefig(filename, dpi=300)\n",
        "FILE.download(filename)\n",
        "\n"
      ]
    },
    {
      "cell_type": "code",
      "execution_count": null,
      "metadata": {
        "id": "jeIZS1OXtU8X",
        "cellView": "form"
      },
      "outputs": [],
      "source": [
        "#@title Accuracy-loss of 1DCNN\n",
        "plt.rcParams['font.family']='Arial'\n",
        "plt.rcParams['font.size']=14\n",
        "plt.plot(hist1.history['accuracy'])\n",
        "plt.plot(hist1.history['val_accuracy'])\n",
        "plt.plot(hist1.history['loss'])\n",
        "plt.plot(hist1.history['val_loss'])\n",
        "\n",
        "plt.title('1 DCNN MODEL')\n",
        "plt.ylabel('Accuracy/loss')\n",
        "plt.xlabel('Epoch')\n",
        "plt.legend(['train accuracy', 'val accuracy','train loss',' val loss'], loc='center right')\n",
        "filename ='dcnn_acc_loss '+datetime.now().strftime(\"%m-%d-%Y_%H-%M-%S\")+'.jpg'\n",
        "\n",
        "plt.savefig(filename, dpi=300)\n",
        "FILE.download(filename)\n",
        "plt.show()"
      ]
    },
    {
      "cell_type": "code",
      "execution_count": null,
      "metadata": {
        "id": "rGUg-Yph9G1E"
      },
      "outputs": [],
      "source": [
        "plt.rcParams['font.family']='Arial'\n",
        "plt.rcParams['font.size']=14\n",
        "plt.plot(hist1.history['accuracy'])\n",
        "plt.plot(hist1.history['val_accuracy'])\n",
        "\n",
        "plt.title('1 DCNN MODEL')\n",
        "plt.ylabel('Accuracy')\n",
        "plt.xlabel('Epoch')\n",
        "plt.legend(['train accuracy', 'val accuracy'], loc='lower right')\n",
        "filename ='dcnn_acc'+datetime.now().strftime(\"%m-%d-%Y_%H-%M-%S\")+'.jpg'\n",
        "\n",
        "plt.savefig(filename, dpi=300)\n",
        "FILE.download(filename)\n",
        "plt.show()"
      ]
    },
    {
      "cell_type": "code",
      "execution_count": null,
      "metadata": {
        "id": "zoInHSEO1Lkf"
      },
      "outputs": [],
      "source": [
        "plt.rcParams['font.family']='Arial'\n",
        "plt.rcParams['font.size']=14\n",
        "plt.plot(hist1.history['loss'])\n",
        "plt.plot(hist1.history['val_loss'])\n",
        "plt.title('1 DCNN MODEL')\n",
        "plt.ylabel('loss')\n",
        "plt.xlabel('Epoch')\n",
        "plt.legend(['train loss', 'val loss'], loc='upper right')\n",
        "filename ='dcnn_loss '+datetime.now().strftime(\"%m-%d-%Y_%H-%M-%S\")+'.jpg'\n",
        "\n",
        "plt.savefig(filename, dpi=300)\n",
        "FILE.download(filename)\n",
        "plt.show()"
      ]
    },
    {
      "cell_type": "code",
      "execution_count": null,
      "metadata": {
        "id": "pnRtFiNt9xaf"
      },
      "outputs": [],
      "source": [
        "#CNN-LSTM\n",
        "d=0.5\n",
        "model1 = Sequential()\n",
        "model1.add(Embedding(20000,200, input_length=X.shape[1]))\n",
        "model1.add(Dropout(0.2))\n",
        "model1.add(Conv1D(256, 3, activation='relu',padding='same'))\n",
        "model1.add(MaxPool1D(1))\n",
        "model1.add(Dropout(d))\n",
        "model1.add(BatchNormalization())\n",
        "model1.add(Conv1D(128, 3, activation='relu', padding='same'))\n",
        "model1.add(MaxPool1D(1))\n",
        "model1.add(Dropout(d))\n",
        "model1.add(BatchNormalization())\n",
        "model1.add(LSTM(64, return_sequences=True))\n",
        "model1.add(LSTM(32))\n",
        "model1.add(Dropout(d))\n",
        "#model.add(LSTM(16, return_sequences=True))\n",
        "model1.add(Flatten())\n",
        "model1.add(Dense(250, activation='relu'))\n",
        "model1.add(Dropout(d))\n",
        "model1.add(Dense(8, activation='softmax'))\n",
        "model1.compile(loss='sparse_categorical_crossentropy', optimizer=RMSprop(learning_rate=0.0001), metrics=['accuracy'])\n",
        "#model1.compile(loss='sparse_categorical_crossentropy', optimizer=Adam(learning_rate=0.0001), metrics=['accuracy'])\n",
        "model1.summary()\n",
        "#visualizer(model1, filename='cnn_lstm_arch',format='png', view=True)\n",
        "#'pool_size': 1, 'optimizer': 'rmsprop', 'kernel_size': 3, 'epochs': 40, 'embedding_dim': 200, 'dropout': 0.1, 'batch_size': 196"
      ]
    },
    {
      "cell_type": "code",
      "execution_count": null,
      "metadata": {
        "id": "rWOoDJxbmZyR"
      },
      "outputs": [],
      "source": [
        "plot_model(model1, to_file='model_plot.png', show_shapes=True, show_layer_names=True)"
      ]
    },
    {
      "cell_type": "code",
      "execution_count": null,
      "metadata": {
        "cellView": "form",
        "id": "vatsdzhNZH9h"
      },
      "outputs": [],
      "source": [
        "#@title Hyperparameter Tuning CNN-LSTM\n",
        "#Hyperparameter Tuning CNN-LSTM\n",
        "from keras.wrappers.scikit_learn import KerasClassifier\n",
        "from sklearn.model_selection import RandomizedSearchCV\n",
        "from keras.models import Sequential\n",
        "from keras.layers import Dense, Embedding, Conv1D, MaxPooling1D, GlobalMaxPooling1D\n",
        "from keras.optimizers import Adam\n",
        "import numpy as np\n",
        "\n",
        "# Define the model\n",
        "def create_model(optimizer='adam', kernel_size=3,  pool_size=2, dropout=0.2,  embedding_dim=100, epochs=10, batch_size=32, d=0.2):\n",
        "\n",
        "  model = Sequential()\n",
        "  model.add(Embedding(20000,embedding_dim, input_length=X.shape[1]))\n",
        "  model.add(Conv1D(256, kernel_size, activation='relu', padding='same'))\n",
        "  model.add(MaxPool1D(pool_size))\n",
        "  model.add(Dropout(dropout))\n",
        "  model.add(Conv1D(128, kernel_size, activation='relu', padding='same'))\n",
        "  model.add(MaxPool1D(pool_size))\n",
        "  model.add(Dropout(dropout))\n",
        "  model.add(LSTM(64, return_sequences=True))\n",
        "  model.add(LSTM(32))\n",
        "  model.add(Dropout(0.2))\n",
        "  model.add(Flatten())\n",
        "  model.add(Dense(256, activation='relu'))\n",
        "  model.add(Dense(128, activation='relu'))\n",
        "  model.add(Dense(64, activation='relu'))\n",
        "  model.add(Dense(10, activation='softmax'))\n",
        "  model.compile(loss='sparse_categorical_crossentropy', optimizer='adam', metrics=['accuracy'])\n",
        "\n",
        "  return model\n",
        "\n",
        "# Define the parameter grid\n",
        "param_grid = {'optimizer': ['adam', 'rmsprop', 'SGD'],\n",
        "              'kernel_size': [2,3,5],\n",
        "              'pool_size': [1,2,3],\n",
        "              'embedding_dim': [50,100,200, 500],\n",
        "              'epochs': [10,20,30, 40, 50],\n",
        "              'batch_size':[32,64,128, 196],\n",
        "              'dropout':[0.05, 0.1, 0.2, 0.3,0.5,0.5]}\n",
        "\n",
        "# Create the KerasClassifier\n",
        "model = KerasClassifier(build_fn=create_model, verbose=0)\n",
        "\n",
        "# Create the randomized search\n",
        "random_search = RandomizedSearchCV(estimator=model, param_distributions=param_grid, cv=3)\n",
        "\n",
        "# Fit the randomized search\n",
        "search=random_search.fit(X, y)\n",
        "print( search.best_params_)\n"
      ]
    },
    {
      "cell_type": "code",
      "execution_count": null,
      "metadata": {
        "id": "Nsr0nisOLrCG"
      },
      "outputs": [],
      "source": [
        "#RUNNING THE MODEL CNN-LSTM  WITH BEST PARAMETER\n",
        "hist_cnnlstm=model1.fit(X_train_o, y_train_o, validation_data=(X_test,y_test), epochs=100, batch_size=128, verbose=2,callbacks=[early_stopping])\n",
        "#hist2=model1.fit(X_train, y_train, validation_data=(X_test,y_test), epochs=40, batch_size=196, verbose=2)"
      ]
    },
    {
      "cell_type": "code",
      "execution_count": null,
      "metadata": {
        "id": "LnhM_BHScXFG"
      },
      "outputs": [],
      "source": [
        "#Performance Metrics for 1DCNN-LSTM\n",
        "\n",
        "y_test_pred = np.argmax(model1.predict(X_test), axis=-1)\n",
        "print(f\"Accuracy Score: {accuracy_score(y_test, y_test_pred) * 100:.2f}%\")\n",
        "print(f\"F1 Score: {f1_score(y_test, y_test_pred, average='weighted') * 100:.2f}%\")\n",
        "print(f\"Recall Score: {recall_score(y_test, y_test_pred, average='weighted') * 100:.2f}%\")\n",
        "print(f\"Precision Score: {precision_score(y_test, y_test_pred, average='weighted') * 100:.2f}%\")\n",
        "from sklearn.metrics import matthews_corrcoef\n",
        "print(f'MCC Score: {matthews_corrcoef(y_test, y_test_pred):.2f}%')\n",
        "cm=confusion_matrix(y_test_pred, y_test,normalize='true')\n",
        "cmd = ConfusionMatrixDisplay(cm, display_labels=labels_n)\n",
        "fig, ax = plt.subplots(figsize=(15,15))\n",
        "cmd.plot(ax=ax,cmap=plt.cm.Blues,colorbar=False)\n",
        "filename ='cnnlstm_confmx '+datetime.now().strftime(\"%m-%d-%Y_%H-%M-%S\")+'.jpg'\n",
        "plt.savefig(filename, dpi=300)\n",
        "FILE.download(filename)"
      ]
    },
    {
      "cell_type": "code",
      "execution_count": null,
      "metadata": {
        "id": "hiFjns_cEAOj",
        "cellView": "form"
      },
      "outputs": [],
      "source": [
        "#@title Accuracy-loss for CNN-LSTM\n",
        "plt.rcParams['font.family']='Arial'\n",
        "plt.rcParams['font.size']=14\n",
        "plt.plot(hist_cnnlstm.history['accuracy'])\n",
        "plt.plot(hist_cnnlstm.history['val_accuracy'])\n",
        "plt.plot(hist_cnnlstm.history['loss'])\n",
        "plt.plot(hist_cnnlstm.history['val_loss'])\n",
        "\n",
        "plt.title('CNN-LSTM MODEL')\n",
        "plt.ylabel('Accuracy/loss')\n",
        "plt.xlabel('Epoch')\n",
        "plt.legend(['train accuracy', 'val accuracy','train loss',' val loss'], loc='center right')\n",
        "filename ='cnnlstm_acc_loss '+datetime.now().strftime(\"%m-%d-%Y_%H-%M-%S\")+'.jpg'\n",
        "\n",
        "plt.savefig(filename, dpi=300)\n",
        "FILE.download(filename)\n",
        "plt.show()"
      ]
    },
    {
      "cell_type": "code",
      "execution_count": null,
      "metadata": {
        "id": "IXDIPh5YMSHj"
      },
      "outputs": [],
      "source": [
        "plt.plot(hist_cnnlstm.history['accuracy'])\n",
        "plt.plot(hist_cnnlstm.history['val_accuracy'])\n",
        "plt.title('CNN-LSTM MODEL')\n",
        "plt.ylabel('Accuracy')\n",
        "plt.xlabel('Epoch')\n",
        "plt.legend(['train accuracy', 'val accuracy'], loc='lower right')\n",
        "filename ='cnnlstm '+datetime.now().strftime(\"%m-%d-%Y_%H-%M-%S\")+'.jpg'\n",
        "\n",
        "plt.savefig(filename, dpi=300)\n",
        "FILE.download(filename)\n",
        "plt.show()"
      ]
    },
    {
      "cell_type": "code",
      "execution_count": null,
      "metadata": {
        "id": "NshLW5KDI5Ts"
      },
      "outputs": [],
      "source": [
        "plt.rcParams['font.family']='Arial'\n",
        "plt.rcParams['font.size']=14\n",
        "plt.plot(hist_cnnlstm.history['loss'])\n",
        "plt.plot(hist_cnnlstm.history['val_loss'])\n",
        "plt.title('CNN_LSTM MODEL')\n",
        "plt.ylabel('loss')\n",
        "plt.xlabel('Epoch')\n",
        "plt.legend(['train loss', 'val loss'], loc='upper right')\n",
        "filename ='cnnlstm_loss '+datetime.now().strftime(\"%m-%d-%Y_%H-%M-%S\")+'.jpg'\n",
        "\n",
        "plt.savefig(filename, dpi=300)\n",
        "FILE.download(filename)\n",
        "plt.show()"
      ]
    },
    {
      "cell_type": "code",
      "execution_count": null,
      "metadata": {
        "id": "iLTeKhmRCKVp",
        "colab": {
          "base_uri": "https://localhost:8080/"
        },
        "outputId": "ef3d2f48-a421-4968-9c05-9eaba058f9ba"
      },
      "outputs": [
        {
          "output_type": "stream",
          "name": "stdout",
          "text": [
            "Model: \"sequential_2\"\n",
            "_________________________________________________________________\n",
            " Layer (type)                Output Shape              Param #   \n",
            "=================================================================\n",
            " embedding_2 (Embedding)     (None, 56, 200)           4000000   \n",
            "                                                                 \n",
            " bidirectional (Bidirectiona  (None, 56, 128)          135680    \n",
            " l)                                                              \n",
            "                                                                 \n",
            " bidirectional_1 (Bidirectio  (None, 128)              98816     \n",
            " nal)                                                            \n",
            "                                                                 \n",
            " dropout_7 (Dropout)         (None, 128)               0         \n",
            "                                                                 \n",
            " flatten_2 (Flatten)         (None, 128)               0         \n",
            "                                                                 \n",
            " dense_4 (Dense)             (None, 250)               32250     \n",
            "                                                                 \n",
            " dense_5 (Dense)             (None, 8)                 2008      \n",
            "                                                                 \n",
            "=================================================================\n",
            "Total params: 4,268,754\n",
            "Trainable params: 4,268,754\n",
            "Non-trainable params: 0\n",
            "_________________________________________________________________\n"
          ]
        }
      ],
      "source": [
        "#Bidirectional LSTM\n",
        "d=0.5\n",
        "model3 = Sequential()\n",
        "model3.add(Embedding(20000,200, input_length=X.shape[1]))\n",
        "#model3.add(Dropout(0.2))\n",
        "model3.add(Bidirectional(LSTM(64, return_sequences=True,recurrent_regularizer='l1')))\n",
        "model3.add(Bidirectional(LSTM(64,recurrent_regularizer='l1')))\n",
        "#model3.add(Bidirectional(LSTM(16,recurrent_regularizer='l1')))\n",
        "model3.add(Dropout(d))\n",
        "model3.add(Flatten())\n",
        "model3.add(Dense(250, activation='relu'))\n",
        "#model3.add(Dropout(d))\n",
        "model3.add(Dense(8, activation='softmax'))\n",
        "model3.compile(loss='sparse_categorical_crossentropy', optimizer=Adam(learning_rate=1e-4), metrics=['accuracy'])\n",
        "model3.summary()\n",
        "#visualizer(model, filename='bilstm_arch',format='png', view=True)\n",
        "#{'optimizer': 'rmsprop', 'epochs': 100, 'embedding_dim': 200, 'dropout': 0.1, 'batch_size': 196}"
      ]
    },
    {
      "cell_type": "code",
      "execution_count": null,
      "metadata": {
        "id": "2D7OfiRsLIIw"
      },
      "outputs": [],
      "source": [
        "#@title Hyperparameter Tuning BiLSTM\n",
        "#Hyperparameter Tuning BiLSTM\n",
        "from keras.wrappers.scikit_learn import KerasClassifier\n",
        "from sklearn.model_selection import RandomizedSearchCV\n",
        "from keras.models import Sequential\n",
        "from keras.layers import Dense, Embedding, Conv1D, MaxPooling1D, GlobalMaxPooling1D\n",
        "from keras.optimizers import Adam\n",
        "import numpy as np\n",
        "\n",
        "# Define the model\n",
        "def create_model(optimizer='adam', dropout=0.2,  embedding_dim=100, epochs=10, batch_size=32):\n",
        "\n",
        "  model3 = Sequential()\n",
        "  model3.add(Embedding(20000,embedding_dim, input_length=X.shape[1]))\n",
        "  model3.add(Bidirectional(LSTM(256, return_sequences=True)))\n",
        "  model3.add(Bidirectional(LSTM(128)))\n",
        "  model3.add(Dropout(dropout))\n",
        "  model3.add(Flatten())\n",
        "  model3.add(Dense(250, activation='relu'))\n",
        "  model3.add(Dropout(dropout))\n",
        "  model3.add(Dense(10, activation='softmax'))\n",
        "  model3.compile(loss='sparse_categorical_crossentropy', optimizer='adam', metrics=['accuracy'])\n",
        "  return model3\n",
        "\n",
        "# Define the parameter grid\n",
        "param_grid = {'optimizer': ['adam', 'rmsprop', 'SGD'],\n",
        "              'embedding_dim': [50,100,200, 500],\n",
        "              'epochs': [10,20,30, 40, 50, 100],\n",
        "              'batch_size':[32,64,128, 196],\n",
        "              'dropout':[0.05, 0.1, 0.2, 0.3,0.5,0.5]}\n",
        "\n",
        "# Create the KerasClassifier\n",
        "model = KerasClassifier(build_fn=create_model, verbose=0)\n",
        "\n",
        "# Create the randomized search\n",
        "random_search = RandomizedSearchCV(estimator=model, param_distributions=param_grid, cv=3)\n",
        "\n",
        "# Fit the randomized search\n",
        "search=random_search.fit(X, y)\n",
        "print( search.best_params_)"
      ]
    },
    {
      "cell_type": "code",
      "execution_count": null,
      "metadata": {
        "id": "o-dmMvARR7G_"
      },
      "outputs": [],
      "source": [
        "hist_bilstm=model3.fit(X_train, y_train, validation_data=(X_test,y_test), epochs=100, batch_size=128, verbose=2,callbacks=[early_stopping])"
      ]
    },
    {
      "cell_type": "code",
      "execution_count": null,
      "metadata": {
        "id": "PvBsOOxfg3L5",
        "colab": {
          "base_uri": "https://localhost:8080/",
          "height": 1000
        },
        "outputId": "d4bbbcaf-144f-41a3-e348-83546c134fc0"
      },
      "outputs": [
        {
          "output_type": "stream",
          "name": "stdout",
          "text": [
            "959/959 [==============================] - 6s 5ms/step\n",
            "Accuracy Score: 93.29%\n",
            "F1 Score: 93.18%\n",
            "Recall Score: 93.29%\n",
            "Precision Score: 93.18%\n",
            "MCC Score: 0.86%\n"
          ]
        },
        {
          "output_type": "stream",
          "name": "stderr",
          "text": [
            "/usr/local/lib/python3.8/dist-packages/sklearn/metrics/_classification.py:1344: UndefinedMetricWarning: Precision is ill-defined and being set to 0.0 in labels with no predicted samples. Use `zero_division` parameter to control this behavior.\n",
            "  _warn_prf(average, modifier, msg_start, len(result))\n"
          ]
        },
        {
          "output_type": "display_data",
          "data": {
            "text/plain": [
              "<Figure size 1080x1080 with 1 Axes>"
            ],
            "image/png": "[encoded data removed]"
          },
          "metadata": {
            "needs_background": "light"
          }
        }
      ],
      "source": [
        "#Performance Metrics for BiLSTM\n",
        "y_test_pred = np.argmax(model3.predict(X_test), axis=-1)\n",
        "print(f\"Accuracy Score: {accuracy_score(y_test, y_test_pred) * 100:.2f}%\")\n",
        "print(f\"F1 Score: {f1_score(y_test, y_test_pred, average='weighted') * 100:.2f}%\")\n",
        "print(f\"Recall Score: {recall_score(y_test, y_test_pred, average='weighted') * 100:.2f}%\")\n",
        "print(f\"Precision Score: {precision_score(y_test, y_test_pred, average='weighted') * 100:.2f}%\")\n",
        "from sklearn.metrics import matthews_corrcoef\n",
        "print(f'MCC Score: {matthews_corrcoef(y_test, y_test_pred):.2f}%')\n",
        "cm=confusion_matrix(y_test_pred, y_test,normalize='true')\n",
        "cmd = ConfusionMatrixDisplay(cm, display_labels=labels_n)\n",
        "fig, ax = plt.subplots(figsize=(15,15))\n",
        "cmd.plot(ax=ax,cmap=plt.cm.Blues,colorbar=False)\n",
        "filename ='bilstm_confmx '+datetime.now().strftime(\"%m-%d-%Y_%H-%M-%S\")+'.jpg'\n",
        "plt.savefig(filename, dpi=300)\n",
        "FILE.download(filename)"
      ]
    },
    {
      "cell_type": "code",
      "execution_count": null,
      "metadata": {
        "id": "dzDIJVUYFH5Y",
        "cellView": "form"
      },
      "outputs": [],
      "source": [
        "#@title Accuracy-loss for BiLSTM\n",
        "plt.rcParams['font.family']='Arial'\n",
        "plt.rcParams['font.size']=14\n",
        "plt.plot(hist_bilstm.history['accuracy'])\n",
        "plt.plot(hist_bilstm.history['val_accuracy'])\n",
        "plt.plot(hist_bilstm.history['loss'])\n",
        "plt.plot(hist_bilstm.history['val_loss'])\n",
        "\n",
        "plt.title('BILSTM MODEL')\n",
        "plt.ylabel('Accuracy/loss')\n",
        "plt.xlabel('Epoch')\n",
        "plt.legend(['train accuracy', 'val accuracy','train loss',' val loss'], loc='center right')\n",
        "filename ='bilstm_acc_loss '+datetime.now().strftime(\"%m-%d-%Y_%H-%M-%S\")+'.jpg'\n",
        "\n",
        "plt.savefig(filename, dpi=300)\n",
        "FILE.download(filename)\n",
        "plt.show()"
      ]
    },
    {
      "cell_type": "code",
      "execution_count": null,
      "metadata": {
        "id": "oMC3vVZ9Srv7",
        "colab": {
          "base_uri": "https://localhost:8080/",
          "height": 307
        },
        "outputId": "3f42af0d-55a9-4e9f-b98a-a61ca33da82b"
      },
      "outputs": [
        {
          "output_type": "display_data",
          "data": {
            "text/plain": [
              "<IPython.core.display.Javascript object>"
            ],
            "application/javascript": [
              "\n",
              "    async function download(id, filename, size) {\n",
              "      if (!google.colab.kernel.accessAllowed) {\n",
              "        return;\n",
              "      }\n",
              "      const div = document.createElement('div');\n",
              "      const label = document.createElement('label');\n",
              "      label.textContent = `Downloading \"${filename}\": `;\n",
              "      div.appendChild(label);\n",
              "      const progress = document.createElement('progress');\n",
              "      progress.max = size;\n",
              "      div.appendChild(progress);\n",
              "      document.body.appendChild(div);\n",
              "\n",
              "      const buffers = [];\n",
              "      let downloaded = 0;\n",
              "\n",
              "      const channel = await google.colab.kernel.comms.open(id);\n",
              "      // Send a message to notify the kernel that we're ready.\n",
              "      channel.send({})\n",
              "\n",
              "      for await (const message of channel.messages) {\n",
              "        // Send a message to notify the kernel that we're ready.\n",
              "        channel.send({})\n",
              "        if (message.buffers) {\n",
              "          for (const buffer of message.buffers) {\n",
              "            buffers.push(buffer);\n",
              "            downloaded += buffer.byteLength;\n",
              "            progress.value = downloaded;\n",
              "          }\n",
              "        }\n",
              "      }\n",
              "      const blob = new Blob(buffers, {type: 'application/binary'});\n",
              "      const a = document.createElement('a');\n",
              "      a.href = window.URL.createObjectURL(blob);\n",
              "      a.download = filename;\n",
              "      div.appendChild(a);\n",
              "      a.click();\n",
              "      div.remove();\n",
              "    }\n",
              "  "
            ]
          },
          "metadata": {}
        },
        {
          "output_type": "display_data",
          "data": {
            "text/plain": [
              "<IPython.core.display.Javascript object>"
            ],
            "application/javascript": [
              "download(\"download_9179b1ae-841b-436b-bb0f-9ff23d673428\", \"bilstm_acc 03-04-2023_22-30-45.jpg\", 106471)"
            ]
          },
          "metadata": {}
        },
        {
          "output_type": "display_data",
          "data": {
            "text/plain": [
              "<Figure size 432x288 with 1 Axes>"
            ],
            "image/png": "[encoded data removed]"
          },
          "metadata": {
            "needs_background": "light"
          }
        }
      ],
      "source": [
        "plt.plot(hist_bilstm.history['accuracy'])\n",
        "plt.plot(hist_bilstm.history['val_accuracy'])\n",
        "plt.title('BiLSTM MODEL')\n",
        "plt.ylabel('Accuracy')\n",
        "plt.xlabel('Epoch')\n",
        "plt.legend(['train accuracy', 'val accuracy'], loc='lower right')\n",
        "filename ='bilstm_acc '+datetime.now().strftime(\"%m-%d-%Y_%H-%M-%S\")+'.jpg'\n",
        "\n",
        "plt.savefig(filename, dpi=300)\n",
        "FILE.download(filename)\n",
        "plt.show()"
      ]
    },
    {
      "cell_type": "code",
      "execution_count": null,
      "metadata": {
        "id": "eqJEBeWwIjGK",
        "colab": {
          "base_uri": "https://localhost:8080/",
          "height": 307
        },
        "outputId": "2882e880-927e-4b23-e2ca-93a8a90dcea1"
      },
      "outputs": [
        {
          "output_type": "display_data",
          "data": {
            "text/plain": [
              "<IPython.core.display.Javascript object>"
            ],
            "application/javascript": [
              "\n",
              "    async function download(id, filename, size) {\n",
              "      if (!google.colab.kernel.accessAllowed) {\n",
              "        return;\n",
              "      }\n",
              "      const div = document.createElement('div');\n",
              "      const label = document.createElement('label');\n",
              "      label.textContent = `Downloading \"${filename}\": `;\n",
              "      div.appendChild(label);\n",
              "      const progress = document.createElement('progress');\n",
              "      progress.max = size;\n",
              "      div.appendChild(progress);\n",
              "      document.body.appendChild(div);\n",
              "\n",
              "      const buffers = [];\n",
              "      let downloaded = 0;\n",
              "\n",
              "      const channel = await google.colab.kernel.comms.open(id);\n",
              "      // Send a message to notify the kernel that we're ready.\n",
              "      channel.send({})\n",
              "\n",
              "      for await (const message of channel.messages) {\n",
              "        // Send a message to notify the kernel that we're ready.\n",
              "        channel.send({})\n",
              "        if (message.buffers) {\n",
              "          for (const buffer of message.buffers) {\n",
              "            buffers.push(buffer);\n",
              "            downloaded += buffer.byteLength;\n",
              "            progress.value = downloaded;\n",
              "          }\n",
              "        }\n",
              "      }\n",
              "      const blob = new Blob(buffers, {type: 'application/binary'});\n",
              "      const a = document.createElement('a');\n",
              "      a.href = window.URL.createObjectURL(blob);\n",
              "      a.download = filename;\n",
              "      div.appendChild(a);\n",
              "      a.click();\n",
              "      div.remove();\n",
              "    }\n",
              "  "
            ]
          },
          "metadata": {}
        },
        {
          "output_type": "display_data",
          "data": {
            "text/plain": [
              "<IPython.core.display.Javascript object>"
            ],
            "application/javascript": [
              "download(\"download_012a15bd-6445-4699-815a-61a329c80789\", \"bilstm_loss 03-04-2023_22-30-50.jpg\", 90860)"
            ]
          },
          "metadata": {}
        },
        {
          "output_type": "display_data",
          "data": {
            "text/plain": [
              "<Figure size 432x288 with 1 Axes>"
            ],
            "image/png": "[encoded data removed]"
          },
          "metadata": {
            "needs_background": "light"
          }
        }
      ],
      "source": [
        "plt.plot(hist_bilstm.history['loss'])\n",
        "plt.plot(hist_bilstm.history['val_loss'])\n",
        "plt.title('BiLSTM MODEL')\n",
        "plt.ylabel('loss')\n",
        "plt.xlabel('Epoch')\n",
        "plt.legend(['train loss', 'val loss'], loc='upper left')\n",
        "filename ='bilstm_loss '+datetime.now().strftime(\"%m-%d-%Y_%H-%M-%S\")+'.jpg'\n",
        "\n",
        "plt.savefig(filename, dpi=300)\n",
        "FILE.download(filename)\n",
        "plt.show()"
      ]
    }
  ],
  "metadata": {
    "accelerator": "GPU",
    "colab": {
      "machine_shape": "hm",
      "provenance": []
    },
    "gpuClass": "standard",
    "kernelspec": {
      "display_name": "Python 3",
      "name": "python3"
    },
    "language_info": {
      "name": "python"
    }
  },
  "nbformat": 4,
  "nbformat_minor": 0
}